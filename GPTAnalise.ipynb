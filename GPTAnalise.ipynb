{
  "cells": [
    {
      "cell_type": "markdown",
      "metadata": {},
      "source": [
        "# Analisando implementações de _kNN_, _Naive Bayes_ e _Árvores de Decisão_ pelo ChatGPT\n",
        "### Lucas Salbego, Gabriel Moszkowicz\n",
        "\n",
        "Neste trabalho, queremos instruir o ChatGPT a gerar implementações _do zero_ de três algoritmos de Machine Learning vistos em aula: _kNN_, _Naive Bayes_ e _Árvores de Decisão_. Temos o intuito de analisar a qualidade não só das implementações, mas também dos resultados do ChatGPT ao considerar os nossos prompts.\n",
        "\n",
        "Estaremos interagindo com o modelo em inglês, e a linguagem escolhida será Python.\n",
        "\n",
        "## kNN\n",
        "\n",
        "A princípio, vamos começar com o prompt mais direto e ver como o ChatGPT se comporta:\n",
        "\n",
        "_Prompt: Implement a kNN Model in Python from scratch_\n",
        "\n",
        "_..._\n",
        "\n",
        "_ChatGPT: Sure, here's a basic implementation of the k-Nearest Neighbors (kNN) algorithm in Python from scratch:_\n",
        "\n",
        "```python\n",
        "import numpy as np\n",
        "\n",
        "class KNN:\n",
        "    def __init__(self, k=3):\n",
        "        self.k = k\n",
        "\n",
        "    def fit(self, X, y):\n",
        "        self.X_train = X\n",
        "        self.y_train = y\n",
        "\n",
        "    def predict(self, X):\n",
        "        predictions = []\n",
        "        for x in X:\n",
        "            distances = []\n",
        "            for i in range(len(self.X_train)):\n",
        "                distance = np.sqrt(np.sum(np.square(x - self.X_train[i])))\n",
        "                distances.append((distance, self.y_train[i]))\n",
        "            distances.sort(key=lambda x: x[0])\n",
        "            neighbors = distances[:self.k]\n",
        "            class_votes = {}\n",
        "            for neighbor in neighbors:\n",
        "                if neighbor[1] in class_votes:\n",
        "                    class_votes[neighbor[1]] += 1\n",
        "                else:\n",
        "                    class_votes[neighbor[1]] = 1\n",
        "            sorted_votes = sorted(class_votes.items(), key=lambda x: x[1], reverse=True)\n",
        "            predictions.append(sorted_votes[0][0])\n",
        "        return predictions\n",
        "\n",
        "# Example usage:\n",
        "if __name__ == \"__main__\":\n",
        "    X_train = np.array([[1, 2], [2, 3], [3, 4], [4, 5]])\n",
        "    y_train = np.array([0, 0, 1, 1])\n",
        "\n",
        "    knn = KNN(k=3)\n",
        "    knn.fit(X_train, y_train)\n",
        "\n",
        "    X_test = np.array([[1, 1], [2, 2]])\n",
        "    predictions = knn.predict(X_test)\n",
        "    print(\"Predictions:\", predictions)\n",
        "\n",
        "```\n",
        "\n",
        "_ChatGPT: This code defines a KNN class with fit and predict methods. The fit method is used to train the model with training data, and the predict method is used to make predictions on new data points. The distance metric used here is Euclidean distance, and the class label of the majority of the k nearest neighbors is chosen as the prediction._\n",
        "\n",
        "O código funciona sem muitas alterações, e pode ser executado a seguir:\n"
      ]
    },
    {
      "cell_type": "code",
      "execution_count": 2,
      "metadata": {
        "trusted": true
      },
      "outputs": [],
      "source": [
        "import numpy as np\n",
        "\n",
        "class KNN:\n",
        "    def __init__(self, k=3):\n",
        "        self.k = k\n",
        "\n",
        "    def fit(self, X, y):\n",
        "        self.X_train = X\n",
        "        self.y_train = y\n",
        "\n",
        "    def predict(self, X):\n",
        "        predictions = []\n",
        "        for x in X:\n",
        "            distances = []\n",
        "            for i in range(len(self.X_train)):\n",
        "                distance = np.sqrt(np.sum(np.square(x - self.X_train[i])))\n",
        "                distances.append((distance, self.y_train[i]))\n",
        "            distances.sort(key=lambda x: x[0])\n",
        "            neighbors = distances[:self.k]\n",
        "            class_votes = {}\n",
        "            for neighbor in neighbors:\n",
        "                if neighbor[1] in class_votes:\n",
        "                    class_votes[neighbor[1]] += 1\n",
        "                else:\n",
        "                    class_votes[neighbor[1]] = 1\n",
        "            sorted_votes = sorted(class_votes.items(), key=lambda x: x[1], reverse=True)\n",
        "            predictions.append(sorted_votes[0][0])\n",
        "        return predictions"
      ]
    },
    {
      "cell_type": "markdown",
      "metadata": {},
      "source": [
        "Pontos a criticar:\n",
        "*  Cálculo de distâncias não é otimizado e roda em O(N^2).\n",
        "*  Apenas a distância euclidiana é disponibilizada.\n"
      ]
    },
    {
      "cell_type": "markdown",
      "metadata": {},
      "source": [
        "Abaixo o modelo pode ser testado, sinta-se a vontade para alterar os parâmetros de entrada, como os conjuntos de treino e teste."
      ]
    },
    {
      "cell_type": "code",
      "execution_count": 3,
      "metadata": {},
      "outputs": [
        {
          "name": "stdout",
          "output_type": "stream",
          "text": [
            "[[1 2]\n",
            " [2 3]\n",
            " [3 4]]\n",
            "[[4 5]]\n",
            "Predictions: [0, 1]\n"
          ]
        }
      ],
      "source": [
        "X_train = np.array([[1, 2], [2, 3], [3, 4], [4, 5]])\n",
        "y_train = np.array([0, 0, 1, 1])\n",
        "test = int(len(X_train)*0.75)\n",
        "a_treino = X_train[0: test]\n",
        "a_teste = X_train[test:]\n",
        "print(a_treino)\n",
        "print(a_teste)\n",
        "knn = KNN(k=3)\n",
        "knn.fit(X_train, y_train)\n",
        "\n",
        "X_test = np.array([[1, 1], [5, 6]])\n",
        "predictions = knn.predict(X_test)\n",
        "print(\"Predictions:\", predictions)"
      ]
    },
    {
      "cell_type": "code",
      "execution_count": 23,
      "metadata": {},
      "outputs": [
        {
          "name": "stdout",
          "output_type": "stream",
          "text": [
            "-30\n"
          ]
        }
      ],
      "source": [
        "from sklearn import datasets\n",
        "import random\n",
        "\n",
        "iris = datasets.load_iris()\n",
        "\n",
        "def shuffle(a, b, ratio):\n",
        "    c = list(zip(a, b))\n",
        "    random.shuffle(c)\n",
        "    data, target = zip(*c)\n",
        "    test:int = int(len(iris.data)*ratio)\n",
        "    X_train = data[0:test]\n",
        "    X_test = data[test:]\n",
        "    Y_train = target[0:test]\n",
        "    Y_test = target[test:]\n",
        "    return X_train, X_test, Y_train, Y_test\n",
        "\n",
        "X_train, X_test, Y_train, Y_test = shuffle(iris.data, iris.target, 0.75)\n",
        "knn.fit(X_train, Y_train)\n",
        "predictions = knn.predict(X_test)\n",
        "setosa = [0, 0, 0, 1]\n",
        "versicolor = [0, 0, 0, 0]\n",
        "viriginica = [0, 0, 0, 0]\n",
        "classes = [setosa, versicolor, viriginica]\n",
        "print(classes[0][3])\n",
        "#0 True Positive\n",
        "#1 False Negative\n",
        "#2 False Positive\n",
        "#3 True Negative\n",
        "for prediction, actual in list(zip(predictions, Y_test)):\n",
        "    if(prediction == actual):\n",
        "        \n",
        "\n",
        "# for n in range(test):\n",
        "#     print(n,  \" \",  X_train[n],  \" \",  Y_train[n])\n",
        "\n",
        "# print(iris.target)\n",
        "# for p in range(150 - test):\n",
        "#     print(p,  \" \",  predictions[p],  \" \",  Y_test[p])\n",
        "print(iris.target_names)"
      ]
    },
    {
      "cell_type": "markdown",
      "metadata": {},
      "source": [
        "## Naive Bayes\n",
        "\n",
        "Prompt: Implement the Naive Bayes algorithm in Python\n",
        "\n",
        "ChatGPT: This implementation assumes that the input features are binary, but you can adapt it for other types of features or preprocessing steps as needed.\n",
        "```py\n",
        "import numpy as np\n",
        "\n",
        "class NaiveBayes:\n",
        "    def __init__(self):\n",
        "        self.prior = None\n",
        "        self.likelihood = None\n",
        "        self.classes = None\n",
        "    \n",
        "    def fit(self, X, y):\n",
        "        n_samples, n_features = X.shape\n",
        "        self.classes = np.unique(y)\n",
        "        n_classes = len(self.classes)\n",
        "        \n",
        "        # Initialize prior probabilities\n",
        "        self.prior = np.zeros(n_classes)\n",
        "        for i, c in enumerate(self.classes):\n",
        "            self.prior[i] = np.sum(y == c) / float(n_samples)\n",
        "        \n",
        "        # Initialize likelihood probabilities\n",
        "        self.likelihood = np.zeros((n_classes, n_features))\n",
        "        for i, c in enumerate(self.classes):\n",
        "            X_c = X[y == c]\n",
        "            self.likelihood[i] = (np.sum(X_c, axis=0) + 1) / (np.sum(X_c) + n_features)\n",
        "    \n",
        "    def predict(self, X):\n",
        "        posteriors = np.zeros((X.shape[0], len(self.classes)))\n",
        "        for i, c in enumerate(self.classes):\n",
        "            prior = np.log(self.prior[i])\n",
        "            likelihood = np.sum(np.log(self.likelihood[i, :]) * X, axis=1)\n",
        "            posteriors[:, i] = prior + likelihood\n",
        "        return np.argmax(posteriors, axis=1)\n",
        "\n",
        "# Example usage:\n",
        "X_train = np.array([[1, 1, 0], [1, 0, 0], [0, 1, 1], [0, 0, 1]])\n",
        "y_train = np.array([0, 1, 1, 0])\n",
        "X_test = np.array([[1, 0, 1], [0, 1, 0]])\n",
        "\n",
        "nb = NaiveBayes()\n",
        "nb.fit(X_train, y_train)\n",
        "predictions = nb.predict(X_test)\n",
        "print(\"Predictions:\", predictions)\n",
        "```"
      ]
    },
    {
      "cell_type": "markdown",
      "metadata": {},
      "source": [
        "## Árvore de Decisão"
      ]
    }
  ],
  "metadata": {
    "kernelspec": {
      "display_name": "Python 3",
      "language": "python",
      "name": "python3"
    },
    "language_info": {
      "codemirror_mode": {
        "name": "ipython",
        "version": 3
      },
      "file_extension": ".py",
      "mimetype": "text/x-python",
      "name": "python",
      "nbconvert_exporter": "python",
      "pygments_lexer": "ipython3",
      "version": "3.11.9"
    }
  },
  "nbformat": 4,
  "nbformat_minor": 4
}
