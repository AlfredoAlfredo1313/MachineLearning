{
  "cells": [
    {
      "cell_type": "markdown",
      "metadata": {},
      "source": [
        "## Importe de Bibiliotecas e definição de mêtodos"
      ]
    },
    {
      "cell_type": "code",
      "execution_count": 70,
      "metadata": {},
      "outputs": [],
      "source": [
        "from sklearn import datasets\n",
        "from sklearn import metrics\n",
        "import matplotlib.pyplot as plt\n",
        "import random\n",
        "import numpy as np\n",
        "\n",
        "\n",
        "def shuffle(a, b, ratio):\n",
        "    c = list(zip(a, b))\n",
        "    random.shuffle(c)\n",
        "    data, target = zip(*c)\n",
        "    test:int = int(len(iris.data)*ratio)\n",
        "    X_train = data[0:test]\n",
        "    X_test = data[test:]\n",
        "    Y_train = target[0:test]\n",
        "    Y_test = target[test:]\n",
        "    return X_train, X_test, Y_train, Y_test\n",
        "\n",
        "def metricas(Y_test, predictions):\n",
        "    confusion_matrix = metrics.confusion_matrix(Y_test, predictions)\n",
        "    cm_display = metrics.ConfusionMatrixDisplay(confusion_matrix = confusion_matrix, display_labels = [0, 1, 2])\n",
        "    cm_display.plot()\n",
        "    plt.show()\n",
        "    accuracy = metrics.accuracy_score(Y_test, predictions, normalize= True)\n",
        "    recall = metrics.recall_score(Y_test, predictions, average=None)\n",
        "    precision = metrics.precision_score(Y_test, predictions, average=None)\n",
        "    f1 = metrics.f1_score(Y_test, predictions, average=None)\n",
        "    print(\"Acuracia:\", accuracy)\n",
        "    print(\"Recall:\", recall)\n",
        "    print(\"Precision:\", precision)\n",
        "    print(\"f1 score:\", f1)\n"
      ]
    },
    {
      "cell_type": "markdown",
      "metadata": {},
      "source": [
        "# Analisando implementações de _kNN_, _Naive Bayes_ e _Árvores de Decisão_ pelo ChatGPT\n",
        "### Lucas Salbego, Gabriel Moszkowicz\n",
        "\n",
        "Neste trabalho, queremos instruir o ChatGPT a gerar implementações _do zero_ de três algoritmos de Machine Learning vistos em aula: _kNN_, _Naive Bayes_ e _Árvores de Decisão_. Temos o intuito de analisar a qualidade não só das implementações, mas também dos resultados do ChatGPT ao considerar os nossos prompts.\n",
        "\n",
        "Estaremos interagindo com o modelo em inglês, e a linguagem escolhida será Python.\n",
        "\n"
      ]
    },
    {
      "cell_type": "markdown",
      "metadata": {},
      "source": [
        "## kNN\n",
        "\n"
      ]
    },
    {
      "cell_type": "markdown",
      "metadata": {},
      "source": [
        "A princípio, vamos começar com o prompt mais direto e ver como o ChatGPT se comporta:\n",
        "\n",
        "_Prompt: Implement a kNN Model in Python from scratch_\n",
        "\n",
        "_..._\n",
        "\n",
        "_ChatGPT: Sure, here's a basic implementation of the k-Nearest Neighbors (kNN) algorithm in Python from scratch:_\n",
        "\n",
        "```python\n",
        "import numpy as np\n",
        "\n",
        "class KNN:\n",
        "    def __init__(self, k=3):\n",
        "        self.k = k\n",
        "\n",
        "    def fit(self, X, y):\n",
        "        self.X_train = X\n",
        "        self.y_train = y\n",
        "\n",
        "    def predict(self, X):\n",
        "        predictions = []\n",
        "        for x in X:\n",
        "            distances = []\n",
        "            for i in range(len(self.X_train)):\n",
        "                distance = np.sqrt(np.sum(np.square(x - self.X_train[i])))\n",
        "                distances.append((distance, self.y_train[i]))\n",
        "            distances.sort(key=lambda x: x[0])\n",
        "            neighbors = distances[:self.k]\n",
        "            class_votes = {}\n",
        "            for neighbor in neighbors:\n",
        "                if neighbor[1] in class_votes:\n",
        "                    class_votes[neighbor[1]] += 1\n",
        "                else:\n",
        "                    class_votes[neighbor[1]] = 1\n",
        "            sorted_votes = sorted(class_votes.items(), key=lambda x: x[1], reverse=True)\n",
        "            predictions.append(sorted_votes[0][0])\n",
        "        return predictions\n",
        "\n",
        "# Example usage:\n",
        "if __name__ == \"__main__\":\n",
        "    X_train = np.array([[1, 2], [2, 3], [3, 4], [4, 5]])\n",
        "    y_train = np.array([0, 0, 1, 1])\n",
        "\n",
        "    knn = KNN(k=3)\n",
        "    knn.fit(X_train, y_train)\n",
        "\n",
        "    X_test = np.array([[1, 1], [2, 2]])\n",
        "    predictions = knn.predict(X_test)\n",
        "    print(\"Predictions:\", predictions)\n",
        "\n",
        "```\n",
        "\n",
        "_ChatGPT: This code defines a KNN class with fit and predict methods. The fit method is used to train the model with training data, and the predict method is used to make predictions on new data points. The distance metric used here is Euclidean distance, and the class label of the majority of the k nearest neighbors is chosen as the prediction._\n",
        "\n",
        "O código funciona sem muitas alterações, e pode ser executado a seguir:\n"
      ]
    },
    {
      "cell_type": "code",
      "execution_count": 71,
      "metadata": {
        "trusted": true
      },
      "outputs": [],
      "source": [
        "class KNN:\n",
        "    def __init__(self, k=3):\n",
        "        self.k = k\n",
        "\n",
        "    def fit(self, X, y):\n",
        "        self.X_train = X\n",
        "        self.y_train = y\n",
        "\n",
        "    def predict(self, X):\n",
        "        predictions = []\n",
        "        for x in X:\n",
        "            distances = []\n",
        "            for i in range(len(self.X_train)):\n",
        "                distance = np.sqrt(np.sum(np.square(x - self.X_train[i])))\n",
        "                distances.append((distance, self.y_train[i]))\n",
        "            distances.sort(key=lambda x: x[0])\n",
        "            neighbors = distances[:self.k]\n",
        "            class_votes = {}\n",
        "            for neighbor in neighbors:\n",
        "                if neighbor[1] in class_votes:\n",
        "                    class_votes[neighbor[1]] += 1\n",
        "                else:\n",
        "                    class_votes[neighbor[1]] = 1\n",
        "            sorted_votes = sorted(class_votes.items(), key=lambda x: x[1], reverse=True)\n",
        "            predictions.append(sorted_votes[0][0])\n",
        "        return predictions"
      ]
    },
    {
      "cell_type": "markdown",
      "metadata": {},
      "source": [
        "### Análise\n"
      ]
    },
    {
      "cell_type": "markdown",
      "metadata": {},
      "source": [
        "* Implementa a distância Euclidiana.\n",
        "* Vizinhos possuem o mesmo peso.\n",
        "\n",
        "#### Pontos a Fracos:\n",
        "*  Cálculo de distâncias não é otimizado e roda em O(N^2).\n",
        "*  Nenhuma das demais medidas de dissimilaridade é disponibilizada.\n",
        "*  Sensível ao tamanho da Feature.\n",
        "*  Apenas features numêricas.\n",
        "*  Sênsível a escolha de K.\n",
        "\n",
        "#### Pontos Fortes:\n",
        "*  Código roda.\n",
        "*  K é parametrizado"
      ]
    },
    {
      "cell_type": "markdown",
      "metadata": {},
      "source": [
        "Abaixo o modelo pode ser testado, sinta-se a vontade para alterar os parâmetros de entrada, como os conjuntos de treino e teste."
      ]
    },
    {
      "cell_type": "code",
      "execution_count": 72,
      "metadata": {},
      "outputs": [
        {
          "name": "stdout",
          "output_type": "stream",
          "text": [
            "Predictions: [0, 1]\n"
          ]
        }
      ],
      "source": [
        "X_train = np.array([[1, 2], [2, 3], [3, 4], [4, 5]])\n",
        "y_train = np.array([0, 0, 1, 1])\n",
        "test = int(len(X_train)*0.75)\n",
        "a_treino = X_train[0: test]\n",
        "a_teste = X_train[test:]\n",
        "knn = KNN(k=3)\n",
        "knn.fit(X_train, y_train)\n",
        "\n",
        "X_test = np.array([[1, 1], [5, 6]])\n",
        "predictions = knn.predict(X_test)\n",
        "print(\"Predictions:\", predictions)"
      ]
    },
    {
      "cell_type": "markdown",
      "metadata": {},
      "source": [
        "### Aplicação Dataset Iris"
      ]
    },
    {
      "cell_type": "code",
      "execution_count": 73,
      "metadata": {},
      "outputs": [
        {
          "data": {
            "image/png": "[encoded data removed]",
            "text/plain": [
              "<Figure size 640x480 with 2 Axes>"
            ]
          },
          "metadata": {},
          "output_type": "display_data"
        },
        {
          "name": "stdout",
          "output_type": "stream",
          "text": [
            "Acuracia: 0.9473684210526315\n",
            "Recall: [1.         0.85714286 1.        ]\n",
            "Precision: [1.         1.         0.84615385]\n",
            "f1 score: [1.         0.92307692 0.91666667]\n"
          ]
        }
      ],
      "source": [
        "iris = datasets.load_iris()\n",
        "X_train, X_test, Y_train, Y_test = shuffle(iris.data, iris.target, 0.75)\n",
        "knn.fit(X_train, Y_train)\n",
        "predictions = knn.predict(X_test)\n",
        "metricas(Y_test, predictions)"
      ]
    },
    {
      "cell_type": "markdown",
      "metadata": {},
      "source": [
        "## Naive Bayes\n"
      ]
    },
    {
      "cell_type": "markdown",
      "metadata": {},
      "source": [
        "\n",
        "_Prompt: Write a naive bayes algorithm with support for continuous features._\n",
        "\n",
        "_ChatGPT: Sure! Below is a simplified implementation of the Gaussian Naive Bayes algorithm in Python, which supports continuous features. Gaussian Naive Bayes assumes that the features follow a Gaussian distribution._.\n",
        "```py\n",
        "import numpy as np\n",
        "\n",
        "class GaussianNaiveBayes:\n",
        "    def fit(self, X, y):\n",
        "        self.classes = np.unique(y)\n",
        "        self.parameters = {}\n",
        "        for c in self.classes:\n",
        "            X_c = X[y == c]\n",
        "            self.parameters[c] = {\n",
        "                'mean': X_c.mean(axis=0),\n",
        "                'std': X_c.std(axis=0) + 1e-6  # Adding a small epsilon to avoid division by zero\n",
        "            }\n",
        "\n",
        "    def _pdf(self, x, mean, std):\n",
        "        exponent = np.exp(-((x - mean) ** 2) / (2 * (std ** 2)))\n",
        "        return (1 / (np.sqrt(2 * np.pi) * std)) * exponent\n",
        "\n",
        "    def _predict_class(self, x):\n",
        "        posteriors = []\n",
        "        for c in self.classes:\n",
        "            likelihood = np.sum(np.log(self._pdf(x, self.parameters[c]['mean'], self.parameters[c]['std'])))\n",
        "            prior = np.log(len(X[y == c]) / len(X))\n",
        "            posterior = likelihood + prior\n",
        "            posteriors.append(posterior)\n",
        "        return self.classes[np.argmax(posteriors)]\n",
        "\n",
        "    def predict(self, X):\n",
        "        return [self._predict_class(x) for x in X]\n",
        "\n",
        "\n",
        "# Example usage\n",
        "X_train = np.array([[5.1, 3.5], [4.9, 3.0], [5.7, 2.8], [6.2, 2.9], [6.7, 3.1]])\n",
        "y_train = np.array([0, 0, 1, 1, 2])  # Class labels\n",
        "\n",
        "# Create and train the Gaussian Naive Bayes classifier\n",
        "gnb = GaussianNaiveBayes()\n",
        "gnb.fit(X_train, y_train)\n",
        "\n",
        "# Make predictions\n",
        "X_test = np.array([[5.5, 3.0], [6.0, 3.2]])\n",
        "predictions = gnb.predict(X_test)\n",
        "print(\"Predictions:\", predictions)\n",
        "```"
      ]
    },
    {
      "cell_type": "code",
      "execution_count": 91,
      "metadata": {},
      "outputs": [
        {
          "ename": "IndexError",
          "evalue": "boolean index did not match indexed array along dimension 0; dimension is 2 but corresponding boolean dimension is 5",
          "output_type": "error",
          "traceback": [
            "\u001b[1;31m---------------------------------------------------------------------------\u001b[0m",
            "\u001b[1;31mIndexError\u001b[0m                                Traceback (most recent call last)",
            "Cell \u001b[1;32mIn[91], line 40\u001b[0m\n\u001b[0;32m     38\u001b[0m \u001b[38;5;66;03m# Make predictions\u001b[39;00m\n\u001b[0;32m     39\u001b[0m X_test \u001b[38;5;241m=\u001b[39m np\u001b[38;5;241m.\u001b[39marray([[\u001b[38;5;241m5.5\u001b[39m, \u001b[38;5;241m3.0\u001b[39m], [\u001b[38;5;241m6.0\u001b[39m, \u001b[38;5;241m3.2\u001b[39m]])\n\u001b[1;32m---> 40\u001b[0m predictions \u001b[38;5;241m=\u001b[39m \u001b[43mgnb\u001b[49m\u001b[38;5;241;43m.\u001b[39;49m\u001b[43mpredict\u001b[49m\u001b[43m(\u001b[49m\u001b[43mX_test\u001b[49m\u001b[43m)\u001b[49m\n\u001b[0;32m     41\u001b[0m \u001b[38;5;28mprint\u001b[39m(\u001b[38;5;124m\"\u001b[39m\u001b[38;5;124mPredictions:\u001b[39m\u001b[38;5;124m\"\u001b[39m, predictions)\n",
            "Cell \u001b[1;32mIn[91], line 27\u001b[0m, in \u001b[0;36mGaussianNaiveBayes.predict\u001b[1;34m(self, X)\u001b[0m\n\u001b[0;32m     26\u001b[0m \u001b[38;5;28;01mdef\u001b[39;00m \u001b[38;5;21mpredict\u001b[39m(\u001b[38;5;28mself\u001b[39m, X):\n\u001b[1;32m---> 27\u001b[0m     \u001b[38;5;28;01mreturn\u001b[39;00m \u001b[43m[\u001b[49m\u001b[38;5;28;43mself\u001b[39;49m\u001b[38;5;241;43m.\u001b[39;49m\u001b[43m_predict_class\u001b[49m\u001b[43m(\u001b[49m\u001b[43mx\u001b[49m\u001b[43m,\u001b[49m\u001b[43m \u001b[49m\u001b[43mX\u001b[49m\u001b[43m)\u001b[49m\u001b[43m \u001b[49m\u001b[38;5;28;43;01mfor\u001b[39;49;00m\u001b[43m \u001b[49m\u001b[43mx\u001b[49m\u001b[43m \u001b[49m\u001b[38;5;129;43;01min\u001b[39;49;00m\u001b[43m \u001b[49m\u001b[43mX\u001b[49m\u001b[43m]\u001b[49m\n",
            "Cell \u001b[1;32mIn[91], line 27\u001b[0m, in \u001b[0;36m<listcomp>\u001b[1;34m(.0)\u001b[0m\n\u001b[0;32m     26\u001b[0m \u001b[38;5;28;01mdef\u001b[39;00m \u001b[38;5;21mpredict\u001b[39m(\u001b[38;5;28mself\u001b[39m, X):\n\u001b[1;32m---> 27\u001b[0m     \u001b[38;5;28;01mreturn\u001b[39;00m [\u001b[38;5;28;43mself\u001b[39;49m\u001b[38;5;241;43m.\u001b[39;49m\u001b[43m_predict_class\u001b[49m\u001b[43m(\u001b[49m\u001b[43mx\u001b[49m\u001b[43m,\u001b[49m\u001b[43m \u001b[49m\u001b[43mX\u001b[49m\u001b[43m)\u001b[49m \u001b[38;5;28;01mfor\u001b[39;00m x \u001b[38;5;129;01min\u001b[39;00m X]\n",
            "Cell \u001b[1;32mIn[91], line 21\u001b[0m, in \u001b[0;36mGaussianNaiveBayes._predict_class\u001b[1;34m(self, x, X)\u001b[0m\n\u001b[0;32m     19\u001b[0m \u001b[38;5;28;01mfor\u001b[39;00m c \u001b[38;5;129;01min\u001b[39;00m \u001b[38;5;28mself\u001b[39m\u001b[38;5;241m.\u001b[39mclasses:\n\u001b[0;32m     20\u001b[0m     likelihood \u001b[38;5;241m=\u001b[39m np\u001b[38;5;241m.\u001b[39msum(np\u001b[38;5;241m.\u001b[39mlog(\u001b[38;5;28mself\u001b[39m\u001b[38;5;241m.\u001b[39m_pdf(x, \u001b[38;5;28mself\u001b[39m\u001b[38;5;241m.\u001b[39mparameters[c][\u001b[38;5;124m'\u001b[39m\u001b[38;5;124mmean\u001b[39m\u001b[38;5;124m'\u001b[39m], \u001b[38;5;28mself\u001b[39m\u001b[38;5;241m.\u001b[39mparameters[c][\u001b[38;5;124m'\u001b[39m\u001b[38;5;124mstd\u001b[39m\u001b[38;5;124m'\u001b[39m])))\n\u001b[1;32m---> 21\u001b[0m     prior \u001b[38;5;241m=\u001b[39m np\u001b[38;5;241m.\u001b[39mlog(\u001b[38;5;28mlen\u001b[39m(\u001b[43mX\u001b[49m\u001b[43m[\u001b[49m\u001b[38;5;28;43mself\u001b[39;49m\u001b[38;5;241;43m.\u001b[39;49m\u001b[43my\u001b[49m\u001b[43m \u001b[49m\u001b[38;5;241;43m==\u001b[39;49m\u001b[43m \u001b[49m\u001b[43mc\u001b[49m\u001b[43m]\u001b[49m) \u001b[38;5;241m/\u001b[39m \u001b[38;5;28mlen\u001b[39m(X))\n\u001b[0;32m     22\u001b[0m     posterior \u001b[38;5;241m=\u001b[39m likelihood \u001b[38;5;241m+\u001b[39m prior\n\u001b[0;32m     23\u001b[0m     posteriors\u001b[38;5;241m.\u001b[39mappend(posterior)\n",
            "\u001b[1;31mIndexError\u001b[0m: boolean index did not match indexed array along dimension 0; dimension is 2 but corresponding boolean dimension is 5"
          ]
        }
      ],
      "source": [
        "class GaussianNaiveBayes:\n",
        "    def fit(self, X, y):\n",
        "        self.classes = np.unique(y)\n",
        "        self.y = y\n",
        "        self.parameters = {}\n",
        "        for c in self.classes:\n",
        "            X_c = X[y == c]\n",
        "            self.parameters[c] = {\n",
        "                'mean': X_c.mean(axis=0),\n",
        "                'std': X_c.std(axis=0) + 1e-6  # Adding a small epsilon to avoid division by zero\n",
        "            }\n",
        "\n",
        "    def _pdf(self, x, mean, std):\n",
        "        exponent = np.exp(-((x - mean) ** 2) / (2 * (std ** 2)))\n",
        "        return (1 / (np.sqrt(2 * np.pi) * std)) * exponent\n",
        "\n",
        "    def _predict_class(self, x, X):\n",
        "        posteriors = []\n",
        "        for c in self.classes:\n",
        "            likelihood = np.sum(np.log(self._pdf(x, self.parameters[c]['mean'], self.parameters[c]['std'])))\n",
        "            prior = np.log(len(X[self.y == c]) / len(X))\n",
        "            posterior = likelihood + prior\n",
        "            posteriors.append(posterior)\n",
        "        return self.classes[np.argmax(posteriors)]\n",
        "\n",
        "    def predict(self, X):\n",
        "        return [self._predict_class(x, X) for x in X]\n",
        "\n",
        "\n",
        "# Example usage\n",
        "X_train = np.array([[5.1, 3.5], [4.9, 3.0], [5.7, 2.8], [6.2, 2.9], [6.7, 3.1]])\n",
        "y_train = np.array([0, 0, 1, 1, 2])  # Class labels\n",
        "\n",
        "# Create and train the Gaussian Naive Bayes classifier\n",
        "gnb = GaussianNaiveBayes()\n",
        "gnb.fit(X_train, y_train)\n",
        "\n",
        "# Make predictions\n",
        "X_test = np.array([[5.5, 3.0], [6.0, 3.2]])\n",
        "predictions = gnb.predict(X_test)\n",
        "print(\"Predictions:\", predictions)\n"
      ]
    },
    {
      "cell_type": "markdown",
      "metadata": {},
      "source": [
        "### Análise\n",
        "* Algoritmo implementado é Gaussian Naive Bayes\n",
        "\n",
        "#### Pontos Fracos\n",
        "* Não implementa Laplace possibilitando problemas causados ​​por certos valores com 0 ocorrências.\n",
        "* Assume indepêndencia entre features ignorando relações causais.\n",
        "* Baixa performance com dados com grande quantidade de features.\n",
        "* Presume dados com distribuição Gausiana.\n",
        "* Código não roda.\n",
        "#### Pontos Fortes\n",
        "* Algoritmo funciona sem necessidade de manutenção.\n",
        "* Suporta valores contínuos."
      ]
    },
    {
      "cell_type": "code",
      "execution_count": 87,
      "metadata": {},
      "outputs": [
        {
          "ename": "NameError",
          "evalue": "name 'X' is not defined",
          "output_type": "error",
          "traceback": [
            "\u001b[1;31m---------------------------------------------------------------------------\u001b[0m",
            "\u001b[1;31mNameError\u001b[0m                                 Traceback (most recent call last)",
            "Cell \u001b[1;32mIn[87], line 5\u001b[0m\n\u001b[0;32m      3\u001b[0m nBayes \u001b[38;5;241m=\u001b[39m GaussianNaiveBayes()\n\u001b[0;32m      4\u001b[0m nBayes\u001b[38;5;241m.\u001b[39mfit(np\u001b[38;5;241m.\u001b[39marray(X_train), Y_train)\n\u001b[1;32m----> 5\u001b[0m predictions \u001b[38;5;241m=\u001b[39m \u001b[43mnBayes\u001b[49m\u001b[38;5;241;43m.\u001b[39;49m\u001b[43mpredict\u001b[49m\u001b[43m(\u001b[49m\u001b[43mnp\u001b[49m\u001b[38;5;241;43m.\u001b[39;49m\u001b[43marray\u001b[49m\u001b[43m(\u001b[49m\u001b[43mX_test\u001b[49m\u001b[43m)\u001b[49m\u001b[43m)\u001b[49m\n\u001b[0;32m      6\u001b[0m metricas(Y_test, predictions)\n",
            "Cell \u001b[1;32mIn[86], line 26\u001b[0m, in \u001b[0;36mGaussianNaiveBayes.predict\u001b[1;34m(self, X)\u001b[0m\n\u001b[0;32m     25\u001b[0m \u001b[38;5;28;01mdef\u001b[39;00m \u001b[38;5;21mpredict\u001b[39m(\u001b[38;5;28mself\u001b[39m, X):\n\u001b[1;32m---> 26\u001b[0m     \u001b[38;5;28;01mreturn\u001b[39;00m \u001b[43m[\u001b[49m\u001b[38;5;28;43mself\u001b[39;49m\u001b[38;5;241;43m.\u001b[39;49m\u001b[43m_predict_class\u001b[49m\u001b[43m(\u001b[49m\u001b[43mx\u001b[49m\u001b[43m)\u001b[49m\u001b[43m \u001b[49m\u001b[38;5;28;43;01mfor\u001b[39;49;00m\u001b[43m \u001b[49m\u001b[43mx\u001b[49m\u001b[43m \u001b[49m\u001b[38;5;129;43;01min\u001b[39;49;00m\u001b[43m \u001b[49m\u001b[43mX\u001b[49m\u001b[43m]\u001b[49m\n",
            "Cell \u001b[1;32mIn[86], line 26\u001b[0m, in \u001b[0;36m<listcomp>\u001b[1;34m(.0)\u001b[0m\n\u001b[0;32m     25\u001b[0m \u001b[38;5;28;01mdef\u001b[39;00m \u001b[38;5;21mpredict\u001b[39m(\u001b[38;5;28mself\u001b[39m, X):\n\u001b[1;32m---> 26\u001b[0m     \u001b[38;5;28;01mreturn\u001b[39;00m [\u001b[38;5;28;43mself\u001b[39;49m\u001b[38;5;241;43m.\u001b[39;49m\u001b[43m_predict_class\u001b[49m\u001b[43m(\u001b[49m\u001b[43mx\u001b[49m\u001b[43m)\u001b[49m \u001b[38;5;28;01mfor\u001b[39;00m x \u001b[38;5;129;01min\u001b[39;00m X]\n",
            "Cell \u001b[1;32mIn[86], line 20\u001b[0m, in \u001b[0;36mGaussianNaiveBayes._predict_class\u001b[1;34m(self, x)\u001b[0m\n\u001b[0;32m     18\u001b[0m \u001b[38;5;28;01mfor\u001b[39;00m c \u001b[38;5;129;01min\u001b[39;00m \u001b[38;5;28mself\u001b[39m\u001b[38;5;241m.\u001b[39mclasses:\n\u001b[0;32m     19\u001b[0m     likelihood \u001b[38;5;241m=\u001b[39m np\u001b[38;5;241m.\u001b[39msum(np\u001b[38;5;241m.\u001b[39mlog(\u001b[38;5;28mself\u001b[39m\u001b[38;5;241m.\u001b[39m_pdf(x, \u001b[38;5;28mself\u001b[39m\u001b[38;5;241m.\u001b[39mparameters[c][\u001b[38;5;124m'\u001b[39m\u001b[38;5;124mmean\u001b[39m\u001b[38;5;124m'\u001b[39m], \u001b[38;5;28mself\u001b[39m\u001b[38;5;241m.\u001b[39mparameters[c][\u001b[38;5;124m'\u001b[39m\u001b[38;5;124mstd\u001b[39m\u001b[38;5;124m'\u001b[39m])))\n\u001b[1;32m---> 20\u001b[0m     prior \u001b[38;5;241m=\u001b[39m np\u001b[38;5;241m.\u001b[39mlog(\u001b[38;5;28mlen\u001b[39m(\u001b[43mX\u001b[49m[y \u001b[38;5;241m==\u001b[39m c]) \u001b[38;5;241m/\u001b[39m \u001b[38;5;28mlen\u001b[39m(X))\n\u001b[0;32m     21\u001b[0m     posterior \u001b[38;5;241m=\u001b[39m likelihood \u001b[38;5;241m+\u001b[39m prior\n\u001b[0;32m     22\u001b[0m     posteriors\u001b[38;5;241m.\u001b[39mappend(posterior)\n",
            "\u001b[1;31mNameError\u001b[0m: name 'X' is not defined"
          ]
        }
      ],
      "source": [
        "iris = datasets.load_iris()\n",
        "X_train, X_test, Y_train, Y_test = shuffle(iris.data, iris.target, 0.75)\n",
        "nBayes = GaussianNaiveBayes()\n",
        "nBayes.fit(np.array(X_train), Y_train)\n",
        "predictions = nBayes.predict(np.array(X_test))\n",
        "metricas(Y_test, predictions)"
      ]
    },
    {
      "cell_type": "markdown",
      "metadata": {},
      "source": [
        "## Árvore de Decisão\n"
      ]
    },
    {
      "cell_type": "markdown",
      "metadata": {},
      "source": [
        "_Prompt: Implement a decision tree prediction algorithm in python._\n",
        "\n",
        "_ChatGPT: Implementing a decision tree prediction algorithm from scratch can be quite complex due to its intricacies in splitting, pruning, and handling categorical and numerical data. Let's outline a basic version of the decision tree algorithm in Python. We'll focus on a simplified version of the algorithm called the CART (Classification and Regression Trees), which is commonly used for classification tasks._\n",
        "\n",
        "```py\n",
        "class Node:\n",
        "    def __init__(self, feature_index=None, threshold=None, left=None, right=None, value=None):\n",
        "        self.feature_index = feature_index  # Index of the feature to split on\n",
        "        self.threshold = threshold  # Threshold value for the split\n",
        "        self.left = left  # Left child node\n",
        "        self.right = right  # Right child node\n",
        "        self.value = value  # Value if the node is a leaf node\n",
        "\n",
        "import numpy as np\n",
        "\n",
        "class DecisionTree:\n",
        "    def __init__(self, max_depth=None):\n",
        "        self.max_depth = max_depth\n",
        "\n",
        "    def fit(self, X, y):\n",
        "        self.n_classes_ = len(np.unique(y))\n",
        "        self.n_features_ = X.shape[1]\n",
        "        self.tree_ = self._grow_tree(X, y)\n",
        "\n",
        "    def _grow_tree(self, X, y, depth=0):\n",
        "        n_samples, n_features = X.shape\n",
        "        n_labels = len(np.unique(y))\n",
        "\n",
        "        # Stopping criteria\n",
        "        if (self.max_depth is not None and depth >= self.max_depth) or n_labels == 1:\n",
        "            leaf_value = np.bincount(y).argmax()\n",
        "            return Node(value=leaf_value)\n",
        "\n",
        "        # Find the best split\n",
        "        best_index, best_threshold = self._find_best_split(X, y)\n",
        "\n",
        "        if best_index is None:\n",
        "            leaf_value = np.bincount(y).argmax()\n",
        "            return Node(value=leaf_value)\n",
        "\n",
        "        # Split the dataset\n",
        "        left_indices = X[:, best_index] < best_threshold\n",
        "        X_left, y_left = X[left_indices], y[left_indices]\n",
        "        X_right, y_right = X[~left_indices], y[~left_indices]\n",
        "\n",
        "        # Recursive call to grow left and right child nodes\n",
        "        left = self._grow_tree(X_left, y_left, depth + 1)\n",
        "        right = self._grow_tree(X_right, y_right, depth + 1)\n",
        "\n",
        "        return Node(feature_index=best_index, threshold=best_threshold, left=left, right=right)\n",
        "\n",
        "    def _find_best_split(self, X, y):\n",
        "        n_samples, n_features = X.shape\n",
        "        best_gini = float('inf')\n",
        "        best_index, best_threshold = None, None\n",
        "\n",
        "        for feature_index in range(n_features):\n",
        "            thresholds = np.unique(X[:, feature_index])\n",
        "            for threshold in thresholds:\n",
        "                left_indices = X[:, feature_index] < threshold\n",
        "                gini = self._gini_impurity(y[left_indices], y[~left_indices])\n",
        "                if gini < best_gini:\n",
        "                    best_gini = gini\n",
        "                    best_index = feature_index\n",
        "                    best_threshold = threshold\n",
        "\n",
        "        return best_index, best_threshold\n",
        "\n",
        "    def _gini_impurity(self, left_labels, right_labels):\n",
        "        n_left, n_right = len(left_labels), len(right_labels)\n",
        "        n_total = n_left + n_right\n",
        "\n",
        "        gini_left = 1.0 - sum((np.sum(left_labels == c) / n_left) ** 2 for c in range(self.n_classes_))\n",
        "        gini_right = 1.0 - sum((np.sum(right_labels == c) / n_right) ** 2 for c in range(self.n_classes_))\n",
        "\n",
        "        gini = (n_left / n_total) * gini_left + (n_right / n_total) * gini_right\n",
        "        return gini\n",
        "\n",
        "    def predict(self, X):\n",
        "        return np.array([self._predict_tree(x, self.tree_) for x in X])\n",
        "\n",
        "    def _predict_tree(self, x, node):\n",
        "        if node.value is not None:\n",
        "            return node.value\n",
        "\n",
        "        if x[node.feature_index] < node.threshold:\n",
        "            return self._predict_tree(x, node.left)\n",
        "        else:\n",
        "            return self._predict_tree(x, node.right)\n",
        "\n",
        "```\n",
        "\n",
        "_ChatGPT: This is a simplified version of a decision tree algorithm in Python. Real-world implementations would require additional optimizations and handling of various scenarios, such as handling missing values, pruning, and dealing with categorical variables._"
      ]
    },
    {
      "cell_type": "code",
      "execution_count": 83,
      "metadata": {},
      "outputs": [],
      "source": [
        "class Node:\n",
        "    def __init__(self, feature_index=None, threshold=None, left=None, right=None, value=None):\n",
        "        self.feature_index = feature_index  # Index of the feature to split on\n",
        "        self.threshold = threshold  # Threshold value for the split\n",
        "        self.left = left  # Left child node\n",
        "        self.right = right  # Right child node\n",
        "        self.value = value  # Value if the node is a leaf node\n",
        "\n",
        "class DecisionTree:\n",
        "    def __init__(self, max_depth=None):\n",
        "        self.max_depth = max_depth\n",
        "\n",
        "    def fit(self, X, y):\n",
        "        self.n_classes_ = len(np.unique(y))\n",
        "        self.n_features_ = X.shape[1]\n",
        "        self.tree_ = self._grow_tree(X, y)\n",
        "\n",
        "    def _grow_tree(self, X, y, depth=0):\n",
        "        n_samples, n_features = X.shape\n",
        "        n_labels = len(np.unique(y))\n",
        "\n",
        "        # Stopping criteria\n",
        "        if (self.max_depth is not None and depth >= self.max_depth) or n_labels == 1:\n",
        "            leaf_value = np.bincount(y).argmax()\n",
        "            return Node(value=leaf_value)\n",
        "\n",
        "        # Find the best split\n",
        "        best_index, best_threshold = self._find_best_split(X, y)\n",
        "\n",
        "        if best_index is None:\n",
        "            leaf_value = np.bincount(y).argmax()\n",
        "            return Node(value=leaf_value)\n",
        "\n",
        "        # Split the dataset\n",
        "        left_indices = X[:, best_index] < best_threshold\n",
        "        X_left, y_left = X[left_indices], y[left_indices]\n",
        "        X_right, y_right = X[~left_indices], y[~left_indices]\n",
        "\n",
        "        # Recursive call to grow left and right child nodes\n",
        "        left = self._grow_tree(X_left, y_left, depth + 1)\n",
        "        right = self._grow_tree(X_right, y_right, depth + 1)\n",
        "\n",
        "        return Node(feature_index=best_index, threshold=best_threshold, left=left, right=right)\n",
        "\n",
        "    def _find_best_split(self, X, y):\n",
        "        n_samples, n_features = X.shape\n",
        "        best_gini = float('inf')\n",
        "        best_index, best_threshold = None, None\n",
        "\n",
        "        for feature_index in range(n_features):\n",
        "            thresholds = np.unique(X[:, feature_index])\n",
        "            for threshold in thresholds:\n",
        "                left_indices = X[:, feature_index] < threshold\n",
        "                gini = self._gini_impurity(y[left_indices], y[~left_indices])\n",
        "                if gini < best_gini:\n",
        "                    best_gini = gini\n",
        "                    best_index = feature_index\n",
        "                    best_threshold = threshold\n",
        "\n",
        "        return best_index, best_threshold\n",
        "\n",
        "    def _gini_impurity(self, left_labels, right_labels):\n",
        "        n_left, n_right = len(left_labels), len(right_labels)\n",
        "        n_total = n_left + n_right\n",
        "\n",
        "        gini_left = 1.0 - sum((np.sum(left_labels == c) / n_left) ** 2 for c in range(self.n_classes_))\n",
        "        gini_right = 1.0 - sum((np.sum(right_labels == c) / n_right) ** 2 for c in range(self.n_classes_))\n",
        "\n",
        "        gini = (n_left / n_total) * gini_left + (n_right / n_total) * gini_right\n",
        "        return gini\n",
        "\n",
        "    def predict(self, X):\n",
        "        return np.array([self._predict_tree(x, self.tree_) for x in X])\n",
        "\n",
        "    def _predict_tree(self, x, node):\n",
        "        if node.value is not None:\n",
        "            return node.value\n",
        "\n",
        "        if x[node.feature_index] < node.threshold:\n",
        "            return self._predict_tree(x, node.left)\n",
        "        else:\n",
        "            return self._predict_tree(x, node.right)"
      ]
    },
    {
      "cell_type": "markdown",
      "metadata": {},
      "source": [
        "### Análise\n",
        "* Construção da Árvore é Top Down recursiva.\n",
        "* Implementa a medida de imperuza Gini.\n",
        "\n",
        "#### Pontos Fracos\n",
        "* Não trata missing values.\n",
        "* Não implementa pruning.\n",
        "* Apenas features numêricas.\n",
        "#### Pontos Fortes\n",
        "* Algoritmo funciona sem necessidade de manutenção.\n",
        "* Suporta 3 ou mais classes"
      ]
    },
    {
      "cell_type": "markdown",
      "metadata": {},
      "source": [
        "### Aplicação Dataset Iris"
      ]
    },
    {
      "cell_type": "code",
      "execution_count": 76,
      "metadata": {},
      "outputs": [
        {
          "name": "stderr",
          "output_type": "stream",
          "text": [
            "C:\\Users\\gabri\\AppData\\Local\\Temp\\ipykernel_25628\\3613014333.py:66: RuntimeWarning: invalid value encountered in scalar divide\n",
            "  gini_left = 1.0 - sum((np.sum(left_labels == c) / n_left) ** 2 for c in range(self.n_classes_))\n"
          ]
        },
        {
          "data": {
            "image/png": "[encoded data removed]",
            "text/plain": [
              "<Figure size 640x480 with 2 Axes>"
            ]
          },
          "metadata": {},
          "output_type": "display_data"
        },
        {
          "name": "stdout",
          "output_type": "stream",
          "text": [
            "Acuracia: 0.9210526315789473\n",
            "Recall: [1.         0.92307692 0.83333333]\n",
            "Precision: [0.92857143 0.85714286 1.        ]\n",
            "f1 score: [0.96296296 0.88888889 0.90909091]\n"
          ]
        }
      ],
      "source": [
        "iris = datasets.load_iris()\n",
        "X_train, X_test, Y_train, Y_test = shuffle(iris.data, iris.target, 0.75)\n",
        "clf = DecisionTree(max_depth=3)\n",
        "clf.fit(np.array(X_train), np.array(Y_train))\n",
        "predictions = clf.predict(np.array(X_test))\n",
        "metricas(Y_test, predictions)"
      ]
    }
  ],
  "metadata": {
    "kernelspec": {
      "display_name": "Python 3",
      "language": "python",
      "name": "python3"
    },
    "language_info": {
      "codemirror_mode": {
        "name": "ipython",
        "version": 3
      },
      "file_extension": ".py",
      "mimetype": "text/x-python",
      "name": "python",
      "nbconvert_exporter": "python",
      "pygments_lexer": "ipython3",
      "version": "3.11.9"
    }
  },
  "nbformat": 4,
  "nbformat_minor": 4
}
